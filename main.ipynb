{
 "cells": [
  {
   "cell_type": "code",
   "execution_count": 7,
   "metadata": {
    "scrolled": true
   },
   "outputs": [
    {
     "name": "stdout",
     "output_type": "stream",
     "text": [
      "data/fashion/train-labels-idx1-ubyte.gz\n",
      "data/fashion/t10k-labels-idx1-ubyte.gz\n"
     ]
    }
   ],
   "source": [
    "# Read Fashion MNIST dataset\n",
    "\n",
    "import mnist_reader\n",
    "X_train, y_train = mnist_reader.load_mnist('data/fashion', kind='train')\n",
    "X_test, y_test = mnist_reader.load_mnist('data/fashion', kind='t10k')\n",
    "\n",
    "# Your code goes here . . ."
   ]
  },
  {
   "cell_type": "code",
   "execution_count": 8,
   "metadata": {},
   "outputs": [],
   "source": [
    "import numpy as np\n",
    "from matplotlib import pyplot as plt\n",
    "\n",
    "from sklearn.preprocessing import OneHotEncoder \n",
    "from sklearn.metrics import confusion_matrix\n",
    "encoder = OneHotEncoder(categories='auto')\n",
    "\n",
    "y_train = encoder.fit_transform(y_train.reshape(-1, 1)).toarray()\n",
    "y_test = encoder.fit_transform(y_test.reshape(-1, 1)).toarray()\n",
    "\n",
    "X_train = (X_train / 255)\n",
    "X_test = (X_test / 255)"
   ]
  },
  {
   "cell_type": "markdown",
   "metadata": {},
   "source": [
    "<h4>Model 1: Neural Network with single hidden layer</h4>"
   ]
  },
  {
   "cell_type": "code",
   "execution_count": 3,
   "metadata": {},
   "outputs": [
    {
     "name": "stdout",
     "output_type": "stream",
     "text": [
      "Training...\n"
     ]
    },
    {
     "data": {
      "image/png": "[encoded data removed]",
      "text/plain": [
       "<Figure size 432x288 with 1 Axes>"
      ]
     },
     "metadata": {
      "needs_background": "light"
     },
     "output_type": "display_data"
    },
    {
     "name": "stdout",
     "output_type": "stream",
     "text": [
      "[[680  23  47  80  24   2 107   4  25   8]\n",
      " [ 15 882   3  59   7   3  22   0   6   3]\n",
      " [ 31   5 528  25 221   9 144   0  35   2]\n",
      " [ 77  39  15 681  87   3  77   0  18   3]\n",
      " [  9   7 174  69 570  10 137   2  21   1]\n",
      " [  5   5   4  11   3 640  28 171  54  79]\n",
      " [171   9 189  50 181  14 342   2  36   6]\n",
      " [  0   0   2   1   1 122   0 760  19  95]\n",
      " [  8   4  41  11  24  32  47  39 773  21]\n",
      " [  7   2   0   0   0  62   4  64  20 841]]\n",
      "\n",
      "\n",
      "Training accuracy :  0.6815833333333333\n",
      "Test accuracy :  0.6697\n"
     ]
    }
   ],
   "source": [
    "class NeuralNetwork:\n",
    "    def __init__(self, x, y):\n",
    "        self.x = x\n",
    "        self.y = y\n",
    "        self.neurons = 128\n",
    "        self.learning_rate = 0.08\n",
    "        self.theta1 = np.random.randn(self.x.shape[1], self.neurons)\n",
    "        self.bias1 = np.zeros((1, self.neurons))\n",
    "        self.theta2 = np.random.randn(self.neurons, self.y.shape[1])\n",
    "        self.bias2 = np.zeros((1, self.y.shape[1]))\n",
    "        self.loss = []\n",
    "    \n",
    "    def sigmoid(self, z):\n",
    "        return 1.0/(1 + np.exp(-z))\n",
    "\n",
    "    def sigmoid_derivative(self, z):\n",
    "        return z * (1 - z)\n",
    "\n",
    "    def softmax(self, s):\n",
    "        exps = np.exp(s - np.max(s, axis=1, keepdims=True))\n",
    "        return exps/np.sum(exps, axis=1, keepdims=True)\n",
    "\n",
    "    def cross_entropy(self, pred, real):\n",
    "        res = pred - real\n",
    "        return res/real.shape[0]\n",
    "\n",
    "    def error(self, pred, real):\n",
    "        logp = - np.log(pred[np.arange(real.shape[0]), real.argmax(axis=1)])\n",
    "        loss = np.sum(logp)/real.shape[0]\n",
    "        return loss\n",
    "        \n",
    "    # y = softmax(W2 sigmoid(w1x + b1) + b2)\n",
    "    def forward_feeding(self):\n",
    "        self.layer1 = self.sigmoid(np.dot(self.x, self.theta1) + self.bias1)\n",
    "        self.output = self.softmax(np.dot(self.layer1, self.theta2) + self.bias2)\n",
    "        \n",
    "    def back_propagation(self, epoch_count):\n",
    "        loss = self.error(self.output, self.y)\n",
    "        self.loss.append(loss)\n",
    "        \n",
    "        output_delta = self.cross_entropy(self.output, self.y) # theta2\n",
    "              \n",
    "        layer1_output_delta = np.dot(output_delta, self.theta2.T)\n",
    "        layer1_delta = layer1_output_delta * self.sigmoid_derivative(self.layer1) # theta1\n",
    "        \n",
    "        # updating weights here\n",
    "        self.theta2 -= self.learning_rate * np.dot(self.layer1.T, output_delta)\n",
    "        self.bias2 -= self.learning_rate * np.sum(output_delta, axis=0, keepdims=True)\n",
    "        \n",
    "        self.theta1 -= self.learning_rate * np.dot(self.x.T, layer1_delta)\n",
    "        self.bias1 -= self.learning_rate * np.sum(layer1_delta, axis=0)\n",
    "       \n",
    "    \n",
    "    def train(self, epochs):\n",
    "        print(\"Training...\")\n",
    "        for x in range(epochs):\n",
    "            self.forward_feeding()\n",
    "            self.back_propagation(x)\n",
    "        return self.loss\n",
    "        \n",
    "        \n",
    "    def predict(self, x, y):\n",
    "        accuracy = 0\n",
    "        for x_val,y_val in zip(x, y):\n",
    "            self.x = x_val\n",
    "            self.forward_feeding()\n",
    "            output = self.output.argmax()\n",
    "            if output == np.argmax(y_val):\n",
    "                accuracy += 1\n",
    "        return accuracy/len(x)\n",
    "    \n",
    "    def matrix(self, x):\n",
    "        self.x = x\n",
    "        self.forward_feeding()\n",
    "        return self.output\n",
    "         \n",
    "        \n",
    "model_nn = NeuralNetwork(X_train, y_train)\n",
    "model_loss = model_nn.train(500)\n",
    "\n",
    "plt.plot(list(range(len(model_loss))), model_loss, \"b\", label=\"Training loss\")\n",
    "plt.xlabel('Epoch')\n",
    "plt.ylabel('Loss')\n",
    "plt.title(\"Epoch vs Loss\")\n",
    "plt.legend()\n",
    "plt.show()\n",
    "\n",
    "\n",
    "output = model_nn.matrix(X_test)\n",
    "\n",
    "confusion = confusion_matrix(np.argmax(y_test, axis=1), np.argmax(output, axis=1))\n",
    "print(confusion)\n",
    "\n",
    "print(\"\\n\\nTraining accuracy : \", model_nn.predict(X_train, np.array(y_train)))\n",
    "print(\"Test accuracy : \", model_nn.predict(X_test, np.array(y_test)))"
   ]
  },
  {
   "cell_type": "markdown",
   "metadata": {},
   "source": [
    "<h4>Model2: Neural Network with multiple hidden layers</h4>"
   ]
  },
  {
   "cell_type": "code",
   "execution_count": 9,
   "metadata": {
    "scrolled": true
   },
   "outputs": [
    {
     "name": "stdout",
     "output_type": "stream",
     "text": [
      "_________________________________________________________________\n",
      "Layer (type)                 Output Shape              Param #   \n",
      "=================================================================\n",
      "dense_9 (Dense)              (None, 64)                50240     \n",
      "_________________________________________________________________\n",
      "dense_10 (Dense)             (None, 128)               8320      \n",
      "_________________________________________________________________\n",
      "dense_11 (Dense)             (None, 10)                1290      \n",
      "=================================================================\n",
      "Total params: 59,850\n",
      "Trainable params: 59,850\n",
      "Non-trainable params: 0\n",
      "_________________________________________________________________\n",
      "Train on 48000 samples, validate on 12000 samples\n",
      "Epoch 1/10\n",
      "48000/48000 [==============================] - 1s 24us/step - loss: 1.1107 - acc: 0.6434 - val_loss: 0.6560 - val_acc: 0.7755\n",
      "Epoch 2/10\n",
      "48000/48000 [==============================] - 1s 20us/step - loss: 0.5670 - acc: 0.7983 - val_loss: 0.5060 - val_acc: 0.8218\n",
      "Epoch 3/10\n",
      "48000/48000 [==============================] - 1s 20us/step - loss: 0.4754 - acc: 0.8306 - val_loss: 0.4674 - val_acc: 0.8300\n",
      "Epoch 4/10\n",
      "48000/48000 [==============================] - 1s 19us/step - loss: 0.4369 - acc: 0.8441 - val_loss: 0.4368 - val_acc: 0.8446\n",
      "Epoch 5/10\n",
      "48000/48000 [==============================] - 1s 22us/step - loss: 0.4121 - acc: 0.8515 - val_loss: 0.4143 - val_acc: 0.8526\n",
      "Epoch 6/10\n",
      "48000/48000 [==============================] - 1s 18us/step - loss: 0.3940 - acc: 0.8590 - val_loss: 0.4211 - val_acc: 0.8507\n",
      "Epoch 7/10\n",
      "48000/48000 [==============================] - 1s 15us/step - loss: 0.3822 - acc: 0.8628 - val_loss: 0.3807 - val_acc: 0.8618\n",
      "Epoch 8/10\n",
      "48000/48000 [==============================] - 1s 18us/step - loss: 0.3695 - acc: 0.8667 - val_loss: 0.3850 - val_acc: 0.8600\n",
      "Epoch 9/10\n",
      "48000/48000 [==============================] - 1s 20us/step - loss: 0.3584 - acc: 0.8711 - val_loss: 0.3729 - val_acc: 0.8647\n",
      "Epoch 10/10\n",
      "48000/48000 [==============================] - 1s 18us/step - loss: 0.3500 - acc: 0.8743 - val_loss: 0.3684 - val_acc: 0.8688\n"
     ]
    },
    {
     "data": {
      "image/png": "[encoded data removed]",
      "text/plain": [
       "<Figure size 432x288 with 1 Axes>"
      ]
     },
     "metadata": {
      "needs_background": "light"
     },
     "output_type": "display_data"
    },
    {
     "data": {
      "image/png": "[encoded data removed]",
      "text/plain": [
       "<Figure size 432x288 with 1 Axes>"
      ]
     },
     "metadata": {
      "needs_background": "light"
     },
     "output_type": "display_data"
    },
    {
     "name": "stdout",
     "output_type": "stream",
     "text": [
      "10000/10000 [==============================] - 0s 20us/step\n",
      "\n",
      "acc: 85.86%\n",
      "\n",
      " Confusion Matrix\n",
      "[[830   1   8  39   4   0  99   0  19   0]\n",
      " [  4 946   5  37   4   0   3   0   1   0]\n",
      " [ 18   0 688  13 159   1 106   0  15   0]\n",
      " [ 21   6   4 897  24   1  42   0   5   0]\n",
      " [  0   1  64  47 791   0  89   0   8   0]\n",
      " [  0   0   0   1   0 941   0  37   3  18]\n",
      " [142   1  68  37  74   0 644   0  34   0]\n",
      " [  0   0   0   0   0  37   0 938   0  25]\n",
      " [  1   1   1   5   2   3  11   5 971   0]\n",
      " [  0   0   0   1   0  15   0  43   1 940]]\n"
     ]
    }
   ],
   "source": [
    "from keras.models import Sequential\n",
    "from keras.layers import Dense, Dropout, Flatten\n",
    "from keras.optimizers import Adam, Adadelta\n",
    "\n",
    "model = Sequential()\n",
    "model.add(Dense(64, input_dim= X_train.shape[1], activation='sigmoid'))\n",
    "model.add(Dense(128, activation='sigmoid'))\n",
    "model.add(Dense(10, activation='softmax'))\n",
    "\n",
    "model.summary()\n",
    "\n",
    "model.compile(optimizer=Adadelta(), loss='categorical_crossentropy', metrics=['accuracy'])\n",
    "keras_model = model.fit(X_train, y_train, epochs=10, batch_size=128, validation_split=0.2)\n",
    "\n",
    "# Plot training & validation accuracy values\n",
    "plt.plot(keras_model.history['acc'])\n",
    "plt.plot(keras_model.history['val_acc'])\n",
    "plt.title('Model accuracy')\n",
    "plt.ylabel('Accuracy')\n",
    "plt.xlabel('Epoch')\n",
    "plt.legend(['Train', 'Test'], loc='upper left')\n",
    "plt.show()\n",
    "\n",
    "# Plot training & validation loss values\n",
    "plt.plot(keras_model.history['loss'])\n",
    "plt.plot(keras_model.history['val_loss'])\n",
    "plt.title('Model loss')\n",
    "plt.ylabel('Loss')\n",
    "plt.xlabel('Epoch')\n",
    "plt.legend(['Train', 'Test'], loc='upper left')\n",
    "plt.show()\n",
    "\n",
    "scores = model.evaluate(X_test, y_test)\n",
    "print(\"\\n%s: %.2f%%\" % (model.metrics_names[1], scores[1]*100))\n",
    "\n",
    "Y_predict = model.predict(X_test)\n",
    "\n",
    "print('\\n Confusion Matrix')\n",
    "print(confusion_matrix(np.argmax(y_test, axis=1), np.argmax(Y_predict, axis=1)))"
   ]
  },
  {
   "cell_type": "markdown",
   "metadata": {},
   "source": [
    "<h4>Model3: Convolutional Neural network</h4>"
   ]
  },
  {
   "cell_type": "code",
   "execution_count": 10,
   "metadata": {},
   "outputs": [
    {
     "name": "stdout",
     "output_type": "stream",
     "text": [
      "_________________________________________________________________\n",
      "Layer (type)                 Output Shape              Param #   \n",
      "=================================================================\n",
      "conv2d_3 (Conv2D)            (None, 26, 26, 32)        320       \n",
      "_________________________________________________________________\n",
      "conv2d_4 (Conv2D)            (None, 24, 24, 64)        18496     \n",
      "_________________________________________________________________\n",
      "max_pooling2d_2 (MaxPooling2 (None, 12, 12, 64)        0         \n",
      "_________________________________________________________________\n",
      "dropout_3 (Dropout)          (None, 12, 12, 64)        0         \n",
      "_________________________________________________________________\n",
      "flatten_2 (Flatten)          (None, 9216)              0         \n",
      "_________________________________________________________________\n",
      "dense_12 (Dense)             (None, 128)               1179776   \n",
      "_________________________________________________________________\n",
      "dropout_4 (Dropout)          (None, 128)               0         \n",
      "_________________________________________________________________\n",
      "dense_13 (Dense)             (None, 10)                1290      \n",
      "=================================================================\n",
      "Total params: 1,199,882\n",
      "Trainable params: 1,199,882\n",
      "Non-trainable params: 0\n",
      "_________________________________________________________________\n",
      "Train on 48000 samples, validate on 12000 samples\n",
      "Epoch 1/10\n",
      "48000/48000 [==============================] - 5s 109us/step - loss: 0.6958 - acc: 0.7541 - val_loss: 0.4331 - val_acc: 0.8458\n",
      "Epoch 2/10\n",
      "48000/48000 [==============================] - 5s 103us/step - loss: 0.4526 - acc: 0.8402 - val_loss: 0.3764 - val_acc: 0.8646\n",
      "Epoch 3/10\n",
      "48000/48000 [==============================] - 5s 103us/step - loss: 0.3999 - acc: 0.8600 - val_loss: 0.3451 - val_acc: 0.8771\n",
      "Epoch 4/10\n",
      "48000/48000 [==============================] - 5s 101us/step - loss: 0.3657 - acc: 0.8708 - val_loss: 0.3220 - val_acc: 0.8818\n",
      "Epoch 5/10\n",
      "48000/48000 [==============================] - 5s 103us/step - loss: 0.3423 - acc: 0.8784 - val_loss: 0.3063 - val_acc: 0.8895\n",
      "Epoch 6/10\n",
      "48000/48000 [==============================] - 5s 101us/step - loss: 0.3258 - acc: 0.8846 - val_loss: 0.3058 - val_acc: 0.8881\n",
      "Epoch 7/10\n",
      "48000/48000 [==============================] - 5s 100us/step - loss: 0.3118 - acc: 0.8891 - val_loss: 0.2894 - val_acc: 0.8946\n",
      "Epoch 8/10\n",
      "48000/48000 [==============================] - 5s 100us/step - loss: 0.2987 - acc: 0.8949 - val_loss: 0.2904 - val_acc: 0.8943\n",
      "Epoch 9/10\n",
      "48000/48000 [==============================] - 5s 103us/step - loss: 0.2886 - acc: 0.8965 - val_loss: 0.2788 - val_acc: 0.8977\n",
      "Epoch 10/10\n",
      "48000/48000 [==============================] - 5s 102us/step - loss: 0.2786 - acc: 0.9004 - val_loss: 0.2777 - val_acc: 0.9008\n"
     ]
    },
    {
     "data": {
      "image/png": "[encoded data removed]",
      "text/plain": [
       "<Figure size 432x288 with 1 Axes>"
      ]
     },
     "metadata": {
      "needs_background": "light"
     },
     "output_type": "display_data"
    },
    {
     "data": {
      "image/png": "[encoded data removed]",
      "text/plain": [
       "<Figure size 432x288 with 1 Axes>"
      ]
     },
     "metadata": {
      "needs_background": "light"
     },
     "output_type": "display_data"
    },
    {
     "name": "stdout",
     "output_type": "stream",
     "text": [
      "10000/10000 [==============================] - 1s 88us/step\n",
      "Test loss: 0.2939665240287781\n",
      "Test accuracy: 0.894\n",
      "\n",
      "acc: 89.40%\n",
      "\n",
      " Confusion Matrix\n",
      "[[874   1  22  13   4   2  75   0   9   0]\n",
      " [  1 968   1  22   3   0   3   0   2   0]\n",
      " [ 16   0 825   9  84   0  66   0   0   0]\n",
      " [ 18   5  12 895  28   0  36   0   6   0]\n",
      " [  1   1  53  31 862   0  52   0   0   0]\n",
      " [  0   0   0   0   0 982   0  12   1   5]\n",
      " [131   1  82  21  82   0 674   0   9   0]\n",
      " [  0   0   0   0   0  27   0 928   1  44]\n",
      " [  4   2   2   3   1   3   7   4 974   0]\n",
      " [  0   0   0   0   0  11   1  30   0 958]]\n"
     ]
    }
   ],
   "source": [
    "from keras.models import Sequential\n",
    "from keras.layers import Conv2D, MaxPooling2D, Dense, Flatten, Dropout\n",
    "from keras.utils import to_categorical\n",
    "from keras.optimizers import Adam, Adadelta\n",
    "\n",
    "X_train_conv = np.copy(X_train).reshape(60000,28,28,1)\n",
    "X_test_conv = np.copy(X_test).reshape(10000,28,28,1)\n",
    "\n",
    "filters = 32\n",
    "filter_size = 3\n",
    "pool_size = 2\n",
    "\n",
    "convolutional_model = Sequential()\n",
    "convolutional_model.add(Conv2D(filters, filter_size, input_shape=(28, 28, 1)))\n",
    "convolutional_model.add(Conv2D(64, filter_size))\n",
    "convolutional_model.add(MaxPooling2D(pool_size = pool_size))\n",
    "convolutional_model.add(Dropout(0.25))\n",
    "convolutional_model.add(Flatten())\n",
    "convolutional_model.add(Dense(128, activation='sigmoid'))\n",
    "convolutional_model.add(Dropout(0.5))\n",
    "convolutional_model.add(Dense(10, activation='softmax'))\n",
    "\n",
    "\n",
    "convolutional_model.summary()\n",
    "\n",
    "# keras.layers.Conv2D(filters, kernel_size, strides=(1, 1), padding='valid', data_format=None, dilation_rate=(1, 1), activation=None, use_bias=True, kernel_initializer='glorot_uniform', bias_initializer='zeros', kernel_regularizer=None, bias_regularizer=None, activity_regularizer=None, kernel_constraint=None, bias_constraint=None)\n",
    "convolutional_model.compile(optimizer=Adadelta(), loss='categorical_crossentropy',metrics=['accuracy'])\n",
    "\n",
    "# Training\n",
    "convolutional_history = convolutional_model.fit(X_train_conv, y_train, batch_size=128, epochs=10, validation_split=0.2)\n",
    "\n",
    "# Plot training & validation accuracy values\n",
    "plt.plot(convolutional_history.history['acc'])\n",
    "plt.plot(convolutional_history.history['val_acc'])\n",
    "plt.title('Model accuracy')\n",
    "plt.ylabel('Accuracy')\n",
    "plt.xlabel('Epoch')\n",
    "plt.legend(['Train', 'Test'], loc='upper left')\n",
    "plt.show()\n",
    "\n",
    "# Plot training & validation loss values\n",
    "plt.plot(convolutional_history.history['loss'])\n",
    "plt.plot(convolutional_history.history['val_loss'])\n",
    "plt.title('Model loss')\n",
    "plt.ylabel('Loss')\n",
    "plt.xlabel('Epoch')\n",
    "plt.legend(['Train', 'Test'], loc='upper left')\n",
    "plt.show()\n",
    "\n",
    "scores = convolutional_model.evaluate(X_test_conv, y_test,)\n",
    "print('Test loss:', scores[0])\n",
    "print('Test accuracy:', scores[1])\n",
    "print(\"\\n%s: %.2f%%\" % (convolutional_model.metrics_names[1], scores[1]*100))\n",
    "\n",
    "Y_pred = convolutional_model.predict(X_test_conv)\n",
    "\n",
    "print('\\n Confusion Matrix')\n",
    "print(confusion_matrix(np.argmax(y_test, axis=1), np.argmax(Y_pred, axis=1)))\n"
   ]
  },
  {
   "cell_type": "code",
   "execution_count": null,
   "metadata": {},
   "outputs": [],
   "source": []
  }
 ],
 "metadata": {
  "kernelspec": {
   "display_name": "Python 3",
   "language": "python",
   "name": "python3"
  },
  "language_info": {
   "codemirror_mode": {
    "name": "ipython",
    "version": 3
   },
   "file_extension": ".py",
   "mimetype": "text/x-python",
   "name": "python",
   "nbconvert_exporter": "python",
   "pygments_lexer": "ipython3",
   "version": "3.7.3"
  }
 },
 "nbformat": 4,
 "nbformat_minor": 2
}
